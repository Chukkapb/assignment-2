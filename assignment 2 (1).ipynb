{
 "cells": [
  {
   "cell_type": "markdown",
   "id": "cd33c1ae",
   "metadata": {},
   "source": [
    "#Assignment 2\n"
   ]
  },
  {
   "cell_type": "code",
   "execution_count": 38,
   "id": "921e82db",
   "metadata": {},
   "outputs": [
    {
     "name": "stdout",
     "output_type": "stream",
     "text": [
      "5\n",
      "*\n",
      "**\n",
      "***\n",
      "****\n",
      "*****\n",
      "****\n",
      "***\n",
      "**\n",
      "*\n"
     ]
    }
   ],
   "source": [
    "1.#Use a python code to display the following star pattern using the for loop\n",
    "n = int(input())\n",
    "l = []\n",
    "for i in range(1,n+1):\n",
    "    l.append(\"*\"*i)\n",
    "for i in range(n-1,0,-1):\n",
    "    l.append(\"*\"*i)\n",
    "print(\"\\n\".join(l))\n",
    "\n"
   ]
  },
  {
   "cell_type": "code",
   "execution_count": 37,
   "id": "067d4890",
   "metadata": {},
   "outputs": [
    {
     "name": "stdout",
     "output_type": "stream",
     "text": [
      "20\n",
      "40\n",
      "60\n",
      "80\n",
      "100\n"
     ]
    }
   ],
   "source": [
    "#2.Use looping to output the elements from a provided list present at odd indexes.\n",
    "my_list = [10, 20, 30, 40, 50, 60, 70, 80, 90, 100]\n",
    "for i in range(1,len(my_list)+1,+2):\n",
    "    print(my_list[i])\n",
    "    "
   ]
  },
  {
   "cell_type": "code",
   "execution_count": 34,
   "id": "f0807c8c",
   "metadata": {},
   "outputs": [
    {
     "name": "stdout",
     "output_type": "stream",
     "text": [
      "[23, 'Python', 23.98]\n",
      "[<class 'int'>, <class 'str'>, <class 'float'>]\n"
     ]
    }
   ],
   "source": [
    "#3.Write a code that appends the type of elements from a given list.\n",
    "x = [23, 'Python', 23.98]\n",
    "l1=[]\n",
    "for i in range(0,len(x)):\n",
    "    l1.append(type(x[i]))\n",
    "print(x)\n",
    "print(l1)"
   ]
  },
  {
   "cell_type": "code",
   "execution_count": 35,
   "id": "24c64f01",
   "metadata": {},
   "outputs": [
    {
     "name": "stdout",
     "output_type": "stream",
     "text": [
      "Enter no. the elements of the list6\n",
      "1\n",
      "2\n",
      "2\n",
      "3\n",
      "4\n",
      "2\n",
      "[1, 2, 3, 4]\n"
     ]
    }
   ],
   "source": [
    "#4.. Write a function that takes a list and returns a new list with unique items of the first list.\n",
    "n1 = int(input(\"Enter no. the elements of the list\"))\n",
    "l2= []\n",
    "for i in range(0,n1):\n",
    "    element = int(input())\n",
    "    l2.append(element)\n",
    "s=set(l2)\n",
    "print(sorted(s))\n"
   ]
  },
  {
   "cell_type": "code",
   "execution_count": 36,
   "id": "600be728",
   "metadata": {},
   "outputs": [
    {
     "name": "stdout",
     "output_type": "stream",
     "text": [
      "No. of Upper case characters :  3\n",
      "No. of Lower case Characters :  12\n"
     ]
    }
   ],
   "source": [
    "#5.Write a function that accepts a string and calculate the number of upper-case letters and lower-case letters.\n",
    "def string_function(s):\n",
    "    diction={\"UPPER_CASE\":0, \"LOWER_CASE\":0}\n",
    "    for i in s:\n",
    "        if i.isupper():\n",
    "           diction[\"UPPER_CASE\"]+=1\n",
    "        elif i.islower():\n",
    "           diction[\"LOWER_CASE\"]+=1\n",
    "        else:\n",
    "           pass\n",
    "    print (\"No. of Upper case characters : \", diction[\"UPPER_CASE\"])\n",
    "    print (\"No. of Lower case Characters : \", diction[\"LOWER_CASE\"])\n",
    "\n",
    "string_function('The quick Brow Fox')"
   ]
  },
  {
   "cell_type": "code",
   "execution_count": null,
   "id": "66d13974",
   "metadata": {},
   "outputs": [],
   "source": []
  }
 ],
 "metadata": {
  "kernelspec": {
   "display_name": "Python 3 (ipykernel)",
   "language": "python",
   "name": "python3"
  },
  "language_info": {
   "codemirror_mode": {
    "name": "ipython",
    "version": 3
   },
   "file_extension": ".py",
   "mimetype": "text/x-python",
   "name": "python",
   "nbconvert_exporter": "python",
   "pygments_lexer": "ipython3",
   "version": "3.9.13"
  }
 },
 "nbformat": 4,
 "nbformat_minor": 5
}
